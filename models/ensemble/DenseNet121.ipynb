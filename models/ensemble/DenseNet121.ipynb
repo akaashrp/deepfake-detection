{
  "cells": [
    {
      "cell_type": "code",
      "execution_count": 13,
      "metadata": {
        "colab": {
          "base_uri": "https://localhost:8080/"
        },
        "id": "y0mmRp4P-jFM",
        "outputId": "079638b6-bdfb-433c-f4ab-e2dba0a9bb3f"
      },
      "outputs": [
        {
          "output_type": "stream",
          "name": "stdout",
          "text": [
            "Drive already mounted at /content/drive/; to attempt to forcibly remount, call drive.mount(\"/content/drive/\", force_remount=True).\n"
          ]
        }
      ],
      "source": [
        "# Mount google drive\n",
        "\n",
        "import json\n",
        "import os\n",
        "from google.colab import drive\n",
        "\n",
        "drive.mount('/content/drive/')\n",
        "os.chdir(\"/content/drive/MyDrive/dfdcDataset/dfdc_train_part_45\")\n",
        "\n"
      ]
    },
    {
      "cell_type": "code",
      "execution_count": 14,
      "metadata": {
        "id": "aJU9NgZK0hVq",
        "colab": {
          "base_uri": "https://localhost:8080/"
        },
        "outputId": "138352ec-fb3c-4be1-aea0-f7d5c11c07f7"
      },
      "outputs": [
        {
          "output_type": "stream",
          "name": "stdout",
          "text": [
            "200 200\n"
          ]
        }
      ],
      "source": [
        "# Filter data into real and fake\n",
        "\n",
        "f = open('metadata.json', \"r\")\n",
        "\n",
        "metadata = json.loads(f.read())\n",
        "metadata = metadata\n",
        "fakes = []\n",
        "reals = []\n",
        "for each in metadata.keys():\n",
        "  if metadata[each][\"label\"] == \"FAKE\":\n",
        "    fakes.append(each)\n",
        "  else:\n",
        "    reals.append(each)\n",
        "fakes = fakes[:200]\n",
        "reals = reals[:200]\n",
        "print(len(fakes), len(reals))"
      ]
    },
    {
      "cell_type": "code",
      "execution_count": 15,
      "metadata": {
        "id": "XwrPeYVq0i2p"
      },
      "outputs": [],
      "source": [
        "import cv2\n",
        "import tensorflow"
      ]
    },
    {
      "cell_type": "code",
      "execution_count": 16,
      "metadata": {
        "id": "QbJC7BxQ0k--"
      },
      "outputs": [],
      "source": [
        "def extract_frames(video_path, frame_rate):\n",
        "    video = cv2.VideoCapture(video_path)\n",
        "    fps = video.get(cv2.CAP_PROP_FPS)\n",
        "    framesInterval = int(fps * frame_rate)\n",
        "    count = 0\n",
        "    frames = []\n",
        "    while video.isOpened():\n",
        "        ret, frame = video.read()\n",
        "        if not ret:\n",
        "            break\n",
        "        if count % framesInterval == 0:\n",
        "            frames.append(frame)\n",
        "            break\n",
        "        count += 1\n",
        "    video.release()\n",
        "    return frames\n",
        "\n",
        "realFrames = {}\n",
        "fakeFrames = {}\n",
        "for each in reals:\n",
        "  realFrames[each] = extract_frames(each, 7)\n",
        "for each in fakes:\n",
        "  fakeFrames[each] = extract_frames(each, 7)\n",
        "\n",
        "# Test for now"
      ]
    },
    {
      "cell_type": "code",
      "execution_count": 17,
      "metadata": {
        "id": "UhztglY50od4"
      },
      "outputs": [],
      "source": [
        "# import cv2\n",
        "# import concurrent.futures\n",
        "\n",
        "\n",
        "# def extract_frames_wrapper(args):\n",
        "#     return extract_frames(*args)\n",
        "\n",
        "# # Function to parallelize frame extraction and organize results into dictionaries\n",
        "# def extract_and_organize(video_paths, frame_rate):\n",
        "#     args = [(video_path, frame_rate) for video_path in video_paths]\n",
        "#     frames_dict = {}\n",
        "#     with concurrent.futures.ThreadPoolExecutor() as executor:\n",
        "#         video_frames = list(executor.map(extract_frames_wrapper, args))\n",
        "#         print(video_frames)\n",
        "#     for video_path, frames in zip(video_paths, video_frames):\n",
        "#         frames_dict[video_path] = frames\n",
        "#     return frames_dict\n",
        "\n",
        "# # Assuming `reals` and `fakes` are lists of video paths for real and fake videos respectively\n",
        "# frame_rate = 7  # Adjust the frame rate as needed\n",
        "\n",
        "# # Extract frames for real and fake videos in parallel and organize them into two dictionaries\n",
        "# realFrames = extract_and_organize(reals, frame_rate)\n",
        "# fakeFrames = extract_and_organize(fakes, frame_rate)"
      ]
    },
    {
      "cell_type": "code",
      "execution_count": 18,
      "metadata": {
        "id": "cXMFPCDL0qQw"
      },
      "outputs": [],
      "source": [
        "import numpy as np\n",
        "\n",
        "def frames_to_dataset(frames_dict, label):\n",
        "    X = []\n",
        "    y = []\n",
        "    for video_path, frames in frames_dict.items():\n",
        "        for frame in frames:\n",
        "            frame_resized = cv2.resize(frame, (224, 224))\n",
        "            X.append(frame_resized)\n",
        "            y.append(label)\n",
        "    return np.array(X), np.array(y)\n",
        "\n",
        "X_real, y_real = frames_to_dataset(realFrames, 0)\n",
        "X_fake, y_fake = frames_to_dataset(fakeFrames, 1)\n",
        "\n",
        "X_train = np.concatenate((X_real, X_fake), axis=0)\n",
        "y_train = np.concatenate((y_real, y_fake), axis=0)\n",
        "\n",
        "X_train = X_train.astype('float32') / 255.0\n"
      ]
    },
    {
      "cell_type": "code",
      "execution_count": 19,
      "metadata": {
        "id": "rQ8nh8Sk0uQ5"
      },
      "outputs": [],
      "source": [
        "from sklearn.utils import shuffle\n",
        "\n",
        "X_train, y_train = shuffle(X_train, y_train, random_state=0)\n",
        "\n",
        "from sklearn.model_selection import train_test_split\n",
        "\n",
        "X_train, X_val, y_train, y_val = train_test_split(X_train, y_train, test_size=0.2, random_state=42)\n"
      ]
    },
    {
      "cell_type": "code",
      "execution_count": 20,
      "metadata": {
        "id": "M9KpMZ1Z0vAX"
      },
      "outputs": [],
      "source": [
        "import tensorflow as tf\n",
        "from tensorflow.keras.applications import DenseNet121\n",
        "from tensorflow.keras.layers import Dense, GlobalAveragePooling2D, Dropout\n",
        "from tensorflow.keras.models import Model\n",
        "from tensorflow.keras.optimizers import Adam\n",
        "\n"
      ]
    },
    {
      "cell_type": "code",
      "execution_count": 21,
      "metadata": {
        "id": "SRi5gbYL00TT"
      },
      "outputs": [],
      "source": [
        "base_model = DenseNet121(weights='imagenet', include_top=False, input_shape=(224, 224, 3))\n",
        "for layer in base_model.layers:\n",
        "  layer.trainable = False\n",
        "x = base_model.output\n",
        "x = GlobalAveragePooling2D()(x)\n",
        "x = Dense(512, activation='relu')(x)\n",
        "x = Dropout(0.5)(x)\n",
        "predictions = Dense(1, activation='sigmoid')(x)\n",
        "model = Model(inputs=base_model.input, outputs=predictions)\n",
        "model.compile(optimizer=Adam(), loss='binary_crossentropy', metrics=['accuracy'])"
      ]
    },
    {
      "cell_type": "code",
      "execution_count": 22,
      "metadata": {
        "id": "N8uiOwsaYUGK",
        "colab": {
          "base_uri": "https://localhost:8080/"
        },
        "outputId": "92255133-9bcc-405f-92a5-1e0f409f8d82"
      },
      "outputs": [
        {
          "output_type": "stream",
          "name": "stdout",
          "text": [
            "Epoch 1/10\n",
            "16/16 [==============================] - 67s 4s/step - loss: 0.5839 - accuracy: 0.7531 - val_loss: 1.5310 - val_accuracy: 0.7250\n",
            "Epoch 2/10\n",
            "16/16 [==============================] - 54s 3s/step - loss: 0.5191 - accuracy: 0.8000 - val_loss: 0.6589 - val_accuracy: 0.7250\n",
            "Epoch 3/10\n",
            "16/16 [==============================] - 64s 4s/step - loss: 0.5092 - accuracy: 0.7875 - val_loss: 0.7534 - val_accuracy: 0.7250\n",
            "Epoch 4/10\n",
            "16/16 [==============================] - 54s 3s/step - loss: 0.5037 - accuracy: 0.7969 - val_loss: 0.9764 - val_accuracy: 0.7250\n",
            "Epoch 5/10\n",
            "16/16 [==============================] - 55s 3s/step - loss: 0.4601 - accuracy: 0.8062 - val_loss: 0.7811 - val_accuracy: 0.7250\n",
            "Epoch 6/10\n",
            "16/16 [==============================] - 54s 3s/step - loss: 0.4353 - accuracy: 0.8156 - val_loss: 0.7351 - val_accuracy: 0.7250\n",
            "Epoch 7/10\n",
            "16/16 [==============================] - 64s 4s/step - loss: 0.4237 - accuracy: 0.8219 - val_loss: 0.7400 - val_accuracy: 0.7250\n",
            "Epoch 8/10\n",
            "16/16 [==============================] - 54s 3s/step - loss: 0.4141 - accuracy: 0.8000 - val_loss: 0.7379 - val_accuracy: 0.7250\n",
            "Epoch 9/10\n",
            "16/16 [==============================] - 55s 3s/step - loss: 0.4062 - accuracy: 0.8094 - val_loss: 0.6690 - val_accuracy: 0.7250\n",
            "Epoch 10/10\n",
            "16/16 [==============================] - 54s 3s/step - loss: 0.3730 - accuracy: 0.8250 - val_loss: 0.6436 - val_accuracy: 0.7250\n"
          ]
        }
      ],
      "source": [
        "from tensorflow.keras.preprocessing.image import ImageDataGenerator\n",
        "\n",
        "train_datagen = ImageDataGenerator(\n",
        "    shear_range=0.2,\n",
        "    zoom_range=0.2,\n",
        "    horizontal_flip=True)\n",
        "\n",
        "validation_datagen = ImageDataGenerator()\n",
        "\n",
        "train_generator = train_datagen.flow(\n",
        "    X_train, y_train,\n",
        "    batch_size=20\n",
        ")\n",
        "\n",
        "\n",
        "validation_generator = validation_datagen.flow(X_val, y_val, batch_size=20)\n",
        "\n",
        "\n",
        "history = model.fit(\n",
        "    train_generator,\n",
        "    steps_per_epoch = max(1, len(X_train) // 20),\n",
        "    epochs=10,\n",
        "    validation_data=validation_generator,\n",
        "    validation_steps = max(1, len(X_val) // 20)\n",
        ")"
      ]
    },
    {
      "cell_type": "code",
      "source": [
        "test_loss, test_accuracy = model.evaluate(X_val, y_val, batch_size=32)  # Adjust batch size if necessary\n",
        "print(f\"Test Loss: {test_loss}\")\n",
        "print(f\"Test Accuracy: {test_accuracy}\")\n",
        "\n",
        "# Optional: Predict on test data\n",
        "predictions = model.predict(X_val, batch_size=32)\n",
        "predictions = [1 if x > 0.5 else 0 for x in predictions.ravel()]\n",
        "\n",
        "import matplotlib.pyplot as plt\n",
        "import seaborn as sns\n",
        "from sklearn.metrics import confusion_matrix\n",
        "\n",
        "plt.plot(history.history['loss'], label='Training loss')\n",
        "plt.plot(history.history['val_loss'], label='Validation loss')\n",
        "plt.title('Training and Validation Loss')\n",
        "plt.ylabel('Loss')\n",
        "plt.xlabel('Epoch')\n",
        "plt.legend()\n",
        "plt.show()\n",
        "\n",
        "\n",
        "y_pred = (model.predict(X_val) > 0.5).astype(\"int32\")\n",
        "\n",
        "cm = confusion_matrix(y_val, y_pred)\n",
        "\n",
        "plt.figure(figsize=(7,5))\n",
        "sns.heatmap(cm, annot=True, fmt=\"d\", cmap=\"Blues\", xticklabels=[\"Real\", \"Fake\"], yticklabels=[\"Real\", \"Fake\"])\n",
        "plt.title('Confusion Matrix')\n",
        "plt.ylabel('Actual')\n",
        "plt.xlabel('Predicted')\n",
        "plt.show()\n",
        "model.save('DenseNet121.h5')"
      ],
      "metadata": {
        "colab": {
          "base_uri": "https://localhost:8080/",
          "height": 1000
        },
        "id": "fWkLA4YhoB7K",
        "outputId": "cc515da1-2b49-4479-f16d-2de001163216"
      },
      "execution_count": 23,
      "outputs": [
        {
          "output_type": "stream",
          "name": "stdout",
          "text": [
            "3/3 [==============================] - 9s 3s/step - loss: 0.6436 - accuracy: 0.7250\n",
            "Test Loss: 0.6435745358467102\n",
            "Test Accuracy: 0.7250000238418579\n",
            "3/3 [==============================] - 13s 3s/step\n"
          ]
        },
        {
          "output_type": "display_data",
          "data": {
            "text/plain": [
              "<Figure size 640x480 with 1 Axes>"
            ],
            "image/png": "[encoded data removed]"
          },
          "metadata": {}
        },
        {
          "output_type": "stream",
          "name": "stdout",
          "text": [
            "3/3 [==============================] - 11s 3s/step\n"
          ]
        },
        {
          "output_type": "display_data",
          "data": {
            "text/plain": [
              "<Figure size 700x500 with 2 Axes>"
            ],
            "image/png": "[encoded data removed]"
          },
          "metadata": {}
        },
        {
          "output_type": "stream",
          "name": "stderr",
          "text": [
            "/usr/local/lib/python3.10/dist-packages/keras/src/engine/training.py:3103: UserWarning: You are saving your model as an HDF5 file via `model.save()`. This file format is considered legacy. We recommend using instead the native Keras format, e.g. `model.save('my_model.keras')`.\n",
            "  saving_api.save_model(\n"
          ]
        }
      ]
    }
  ],
  "metadata": {
    "colab": {
      "provenance": []
    },
    "kernelspec": {
      "display_name": "Python 3",
      "name": "python3"
    },
    "language_info": {
      "name": "python"
    }
  },
  "nbformat": 4,
  "nbformat_minor": 0
}