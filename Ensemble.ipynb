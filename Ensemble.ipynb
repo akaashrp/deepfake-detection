{
  "nbformat": 4,
  "nbformat_minor": 0,
  "metadata": {
    "colab": {
      "provenance": []
    },
    "kernelspec": {
      "name": "python3",
      "display_name": "Python 3"
    },
    "language_info": {
      "name": "python"
    }
  },
  "cells": [
    {
      "cell_type": "code",
      "execution_count": 1,
      "metadata": {
        "colab": {
          "base_uri": "https://localhost:8080/"
        },
        "id": "UxtQ_2NDkgYX",
        "outputId": "967a8345-2337-48c7-8e5f-9c97830a0ebc"
      },
      "outputs": [
        {
          "output_type": "stream",
          "name": "stdout",
          "text": [
            "Mounted at /content/drive/\n"
          ]
        }
      ],
      "source": [
        "# Mount google drive\n",
        "\n",
        "import json\n",
        "import os\n",
        "from google.colab import drive\n",
        "\n",
        "drive.mount('/content/drive/')\n",
        "os.chdir(\"/content/drive/MyDrive/dfdcDataset/dfdc_train_part_45\")\n",
        "\n"
      ]
    },
    {
      "cell_type": "code",
      "source": [
        "# Filter data into real and fake\n",
        "\n",
        "f = open('metadata.json', \"r\")\n",
        "\n",
        "metadata = json.loads(f.read())\n",
        "metadata = metadata\n",
        "fakes = []\n",
        "reals = []\n",
        "for each in metadata.keys():\n",
        "  if metadata[each][\"label\"] == \"FAKE\":\n",
        "    fakes.append(each)\n",
        "  else:\n",
        "    reals.append(each)\n",
        "fakes = fakes[:200]\n",
        "reals = reals[:200]\n",
        "print(len(fakes), len(reals))"
      ],
      "metadata": {
        "colab": {
          "base_uri": "https://localhost:8080/"
        },
        "id": "ayNDinkjm-R-",
        "outputId": "3040be37-a561-4df2-fd03-88a207d78496"
      },
      "execution_count": 2,
      "outputs": [
        {
          "output_type": "stream",
          "name": "stdout",
          "text": [
            "200 200\n"
          ]
        }
      ]
    },
    {
      "cell_type": "code",
      "source": [
        "import cv2\n",
        "import tensorflow\n",
        "\n",
        "def extract_frames(video_path, frame_rate):\n",
        "    video = cv2.VideoCapture(video_path)\n",
        "    fps = video.get(cv2.CAP_PROP_FPS)\n",
        "    framesInterval = int(fps * frame_rate)\n",
        "    count = 0\n",
        "    frames = []\n",
        "    while video.isOpened():\n",
        "        ret, frame = video.read()\n",
        "        if not ret:\n",
        "            break\n",
        "        if count % framesInterval == 0:\n",
        "            frames.append(frame)\n",
        "        count += 1\n",
        "    video.release()\n",
        "    return frames\n",
        "\n",
        "realFrames = {}\n",
        "fakeFrames = {}\n",
        "for each in reals:\n",
        "  realFrames[each] = extract_frames(each, 7)\n",
        "\n",
        "\n",
        "for each in fakes:\n",
        "  fakeFrames[each] = extract_frames(each, 7)\n"
      ],
      "metadata": {
        "id": "BswEcRUNnA5s"
      },
      "execution_count": 3,
      "outputs": []
    },
    {
      "cell_type": "code",
      "source": [
        "import numpy as np\n",
        "\n",
        "def frames_to_dataset(frames_dict, label):\n",
        "    X = []\n",
        "    y = []\n",
        "    for video_path, frames in frames_dict.items():\n",
        "        for frame in frames:\n",
        "            frame_resized = cv2.resize(frame, (299, 299))\n",
        "            X.append(frame_resized)\n",
        "            y.append(label)\n",
        "    return np.array(X), np.array(y)\n",
        "\n",
        "X_real, y_real = frames_to_dataset(realFrames, 0)\n",
        "X_fake, y_fake = frames_to_dataset(fakeFrames, 1)\n",
        "\n",
        "X_train = np.concatenate((X_real, X_fake), axis=0)\n",
        "y_train = np.concatenate((y_real, y_fake), axis=0)\n",
        "\n",
        "X_train = X_train.astype('float32') / 255.0\n"
      ],
      "metadata": {
        "id": "PNgs-Wf-nC78"
      },
      "execution_count": 4,
      "outputs": []
    },
    {
      "cell_type": "code",
      "source": [
        "from sklearn.utils import shuffle\n",
        "\n",
        "X_train, y_train = shuffle(X_train, y_train, random_state=0)\n",
        "\n",
        "from sklearn.model_selection import train_test_split\n",
        "\n",
        "X_train, X_val, y_train, y_val = train_test_split(X_train, y_train, test_size=0.2, random_state=42)\n"
      ],
      "metadata": {
        "id": "zHRSUmOwnGhG"
      },
      "execution_count": 5,
      "outputs": []
    },
    {
      "cell_type": "code",
      "source": [
        "from tensorflow.keras.models import load_model\n",
        "\n",
        "\n",
        "model_1 = load_model('inceptionResNet.h5')\n",
        "model_2 = load_model('DenseNet121.h5')\n"
      ],
      "metadata": {
        "id": "IbUkraK4EDrR"
      },
      "execution_count": 6,
      "outputs": []
    },
    {
      "cell_type": "code",
      "source": [
        "from tensorflow.keras.models import Model\n",
        "\n",
        "model_1_features = Model(inputs=model_1.input, outputs=model_1.layers[-2].output)\n",
        "model_2_features = Model(inputs=model_2.input, outputs=model_2.layers[-2].output)"
      ],
      "metadata": {
        "id": "OT9mBvomE59K"
      },
      "execution_count": 7,
      "outputs": []
    },
    {
      "cell_type": "code",
      "source": [
        "from tensorflow.keras.preprocessing import image\n",
        "import numpy as np\n",
        "from PIL import Image\n",
        "\n",
        "def extract_features(num, model, X, size):\n",
        "\n",
        "\n",
        "    X_resized = np.array([image.img_to_array(Image.fromarray(img.astype('uint8')).resize((size, size))) for img in X])\n",
        "\n",
        "\n",
        "    if num == \"first\":\n",
        "        from keras.applications.inception_resnet_v2 import preprocess_input\n",
        "    elif num == \"second\":\n",
        "        from keras.applications.densenet import preprocess_input\n",
        "    else:\n",
        "        raise ValueError(\"Unsupported model\")\n",
        "\n",
        "\n",
        "    X_preprocessed = preprocess_input(X_resized)\n",
        "    return model.predict(X_preprocessed)\n",
        "\n",
        "\n",
        "model_1_features = extract_features(\"first\", model_1, X_train, 299)\n",
        "model_2_features = extract_features(\"second\", model_2, X_train, 224)\n",
        "print(\"done\")"
      ],
      "metadata": {
        "colab": {
          "base_uri": "https://localhost:8080/"
        },
        "id": "7HIfws_LE9Aq",
        "outputId": "1d834a27-4ff4-4200-9360-dbba84d486b6"
      },
      "execution_count": 8,
      "outputs": [
        {
          "output_type": "stream",
          "name": "stdout",
          "text": [
            "20/20 [==============================] - 308s 15s/step\n",
            "20/20 [==============================] - 103s 5s/step\n",
            "done\n"
          ]
        }
      ]
    },
    {
      "cell_type": "code",
      "source": [
        "import lightgbm as lgb\n",
        "\n",
        "combined_features = np.concatenate([model_1_features, model_2_features], axis=1)\n",
        "\n",
        "\n",
        "train_data = lgb.Dataset(combined_features, label=y_train)\n",
        "\n",
        "\n",
        "params = {\n",
        "    'boosting_type': 'gbdt',\n",
        "    'objective': 'binary',\n",
        "    'metric': 'binary_logloss',\n",
        "    # 'num_leaves': 90,\n",
        "    # 'learning_rate': 0.05,\n",
        "    # 'feature_fraction': 0.9,\n",
        "    # 'bagging_fraction': 0.8,\n",
        "    # 'bagging_freq': 5,\n",
        "    # 'verbose': 0\n",
        "}\n",
        "\n",
        "\n",
        "\n",
        "\n",
        "num_boost_round = 100\n",
        "lgb_model = lgb.train(params, train_data, num_boost_round=num_boost_round)\n"
      ],
      "metadata": {
        "colab": {
          "base_uri": "https://localhost:8080/"
        },
        "id": "rwdAsFnHE_ST",
        "outputId": "d2c985b4-6bc6-4f93-d3c6-d53f4e42e76c"
      },
      "execution_count": 16,
      "outputs": [
        {
          "output_type": "stream",
          "name": "stdout",
          "text": [
            "[LightGBM] [Info] Number of positive: 316, number of negative: 324\n",
            "[LightGBM] [Info] Auto-choosing col-wise multi-threading, the overhead of testing was 0.000044 seconds.\n",
            "You can set `force_col_wise=true` to remove the overhead.\n",
            "[LightGBM] [Info] Total Bins 428\n",
            "[LightGBM] [Info] Number of data points in the train set: 640, number of used features: 2\n",
            "[LightGBM] [Info] [binary:BoostFromScore]: pavg=0.493750 -> initscore=-0.025001\n",
            "[LightGBM] [Info] Start training from score -0.025001\n",
            "[LightGBM] [Warning] No further splits with positive gain, best gain: -inf\n",
            "[LightGBM] [Warning] No further splits with positive gain, best gain: -inf\n",
            "[LightGBM] [Warning] No further splits with positive gain, best gain: -inf\n",
            "[LightGBM] [Warning] No further splits with positive gain, best gain: -inf\n",
            "[LightGBM] [Warning] No further splits with positive gain, best gain: -inf\n",
            "[LightGBM] [Warning] No further splits with positive gain, best gain: -inf\n",
            "[LightGBM] [Warning] No further splits with positive gain, best gain: -inf\n",
            "[LightGBM] [Warning] No further splits with positive gain, best gain: -inf\n",
            "[LightGBM] [Warning] No further splits with positive gain, best gain: -inf\n",
            "[LightGBM] [Warning] No further splits with positive gain, best gain: -inf\n",
            "[LightGBM] [Warning] No further splits with positive gain, best gain: -inf\n",
            "[LightGBM] [Warning] No further splits with positive gain, best gain: -inf\n",
            "[LightGBM] [Warning] No further splits with positive gain, best gain: -inf\n",
            "[LightGBM] [Warning] No further splits with positive gain, best gain: -inf\n",
            "[LightGBM] [Warning] No further splits with positive gain, best gain: -inf\n",
            "[LightGBM] [Warning] No further splits with positive gain, best gain: -inf\n",
            "[LightGBM] [Warning] No further splits with positive gain, best gain: -inf\n",
            "[LightGBM] [Warning] No further splits with positive gain, best gain: -inf\n",
            "[LightGBM] [Warning] No further splits with positive gain, best gain: -inf\n",
            "[LightGBM] [Warning] No further splits with positive gain, best gain: -inf\n",
            "[LightGBM] [Warning] No further splits with positive gain, best gain: -inf\n",
            "[LightGBM] [Warning] No further splits with positive gain, best gain: -inf\n",
            "[LightGBM] [Warning] No further splits with positive gain, best gain: -inf\n",
            "[LightGBM] [Warning] No further splits with positive gain, best gain: -inf\n",
            "[LightGBM] [Warning] No further splits with positive gain, best gain: -inf\n",
            "[LightGBM] [Warning] No further splits with positive gain, best gain: -inf\n",
            "[LightGBM] [Warning] No further splits with positive gain, best gain: -inf\n",
            "[LightGBM] [Warning] No further splits with positive gain, best gain: -inf\n",
            "[LightGBM] [Warning] No further splits with positive gain, best gain: -inf\n",
            "[LightGBM] [Warning] No further splits with positive gain, best gain: -inf\n",
            "[LightGBM] [Warning] No further splits with positive gain, best gain: -inf\n",
            "[LightGBM] [Warning] No further splits with positive gain, best gain: -inf\n",
            "[LightGBM] [Warning] No further splits with positive gain, best gain: -inf\n",
            "[LightGBM] [Warning] No further splits with positive gain, best gain: -inf\n",
            "[LightGBM] [Warning] No further splits with positive gain, best gain: -inf\n",
            "[LightGBM] [Warning] No further splits with positive gain, best gain: -inf\n",
            "[LightGBM] [Warning] No further splits with positive gain, best gain: -inf\n",
            "[LightGBM] [Warning] No further splits with positive gain, best gain: -inf\n",
            "[LightGBM] [Warning] No further splits with positive gain, best gain: -inf\n",
            "[LightGBM] [Warning] No further splits with positive gain, best gain: -inf\n",
            "[LightGBM] [Warning] No further splits with positive gain, best gain: -inf\n",
            "[LightGBM] [Warning] No further splits with positive gain, best gain: -inf\n",
            "[LightGBM] [Warning] No further splits with positive gain, best gain: -inf\n",
            "[LightGBM] [Warning] No further splits with positive gain, best gain: -inf\n",
            "[LightGBM] [Warning] No further splits with positive gain, best gain: -inf\n",
            "[LightGBM] [Warning] No further splits with positive gain, best gain: -inf\n"
          ]
        }
      ]
    },
    {
      "cell_type": "code",
      "source": [
        "\n",
        "new_data_features = np.concatenate([\n",
        "    model_1_features,\n",
        "    model_2_features\n",
        "], axis=1)\n",
        "\n",
        "\n",
        "predictions = lgb_model.predict(new_data_features)\n"
      ],
      "metadata": {
        "id": "uysp6DovFAK0"
      },
      "execution_count": 17,
      "outputs": []
    },
    {
      "cell_type": "code",
      "source": [
        "import numpy as np\n",
        "from sklearn.metrics import confusion_matrix, accuracy_score, roc_auc_score\n",
        "import matplotlib.pyplot as plt\n",
        "import seaborn as sns\n",
        "\n",
        "predicted_labels = (predictions > 0.5).astype(int)\n",
        "\n",
        "cm = confusion_matrix(y_val, predicted_labels[:160])\n",
        "\n",
        "\n",
        "plt.figure(figsize=(8, 6))\n",
        "sns.heatmap(cm, annot=True, fmt=\"d\", cmap='Blues', xticklabels=['Fake', 'Real'], yticklabels=['Fake', 'Real'])\n",
        "plt.title('Ensemble Model Confusion Matrix')\n",
        "plt.ylabel('Actual Values')\n",
        "plt.xlabel('Predicted Values')\n",
        "plt.show()\n",
        "\n",
        "\n",
        "accuracy = accuracy_score(y_val, predicted_labels[:160])\n",
        "print(\"Accuracy:\", accuracy)\n",
        "\n",
        "\n",
        "auc_roc = roc_auc_score(y_val, predicted_labels[:160])\n",
        "print(\"AUC-ROC:\", auc_roc)\n"
      ],
      "metadata": {
        "colab": {
          "base_uri": "https://localhost:8080/",
          "height": 600
        },
        "id": "52Ziax5jVees",
        "outputId": "cd7b0c48-b68d-4299-904a-c3cff7536665"
      },
      "execution_count": 20,
      "outputs": [
        {
          "output_type": "display_data",
          "data": {
            "text/plain": [
              "<Figure size 800x600 with 2 Axes>"
            ],
            "image/png": "[encoded data removed]"
          },
          "metadata": {}
        },
        {
          "output_type": "stream",
          "name": "stdout",
          "text": [
            "Accuracy: 0.55625\n",
            "AUC-ROC: 0.556077694235589\n"
          ]
        }
      ]
    },
    {
      "cell_type": "code",
      "source": [
        "from sklearn.metrics import roc_curve, auc\n",
        "import matplotlib.pyplot as plt\n",
        "\n",
        "\n",
        "fpr, tpr, _ = roc_curve(y_val, predictions[:160])\n",
        "roc_auc = auc(fpr, tpr)\n",
        "\n",
        "plt.figure(figsize=(8, 6))\n",
        "plt.plot(fpr, tpr, color='darkorange', lw=2, label='ROC curve (area = %0.2f)' % roc_auc)\n",
        "plt.plot([0, 1], [0, 1], color='navy', lw=2, linestyle='--')\n",
        "plt.xlim([0.0, 1.0])\n",
        "plt.ylim([0.0, 1.05])\n",
        "plt.xlabel('False Positive Rate')\n",
        "plt.ylabel('True Positive Rate')\n",
        "plt.title('Receiver Operating Characteristic')\n",
        "plt.legend(loc=\"lower right\")\n",
        "plt.show()\n",
        "\n",
        "print(\"AUC-ROC:\", roc_auc)"
      ],
      "metadata": {
        "colab": {
          "base_uri": "https://localhost:8080/",
          "height": 582
        },
        "id": "so6y5slmWxgd",
        "outputId": "17adf3e7-0d9b-44ce-fe64-7a5dc61a32f5"
      },
      "execution_count": 22,
      "outputs": [
        {
          "output_type": "display_data",
          "data": {
            "text/plain": [
              "<Figure size 800x600 with 1 Axes>"
            ],
            "image/png": "[encoded data removed]"
          },
          "metadata": {}
        },
        {
          "output_type": "stream",
          "name": "stdout",
          "text": [
            "AUC-ROC: 0.5833333333333333\n"
          ]
        }
      ]
    },
    {
      "cell_type": "code",
      "source": [
        "from sklearn.metrics import accuracy_score, roc_auc_score\n",
        "print(len(predicted_labels))\n",
        "print(len(y_val))\n",
        "\n",
        "predicted_labels = (predictions > 0.5).astype(int)\n",
        "print(\"Accuracy:\", accuracy_score(y_val, predicted_labels[:160]))\n",
        "print(\"AUC-ROC:\", roc_auc_score(y_val, predicted_labels[:160]))"
      ],
      "metadata": {
        "colab": {
          "base_uri": "https://localhost:8080/"
        },
        "id": "lxS8O4zaS127",
        "outputId": "8c674f1a-95c0-4aa0-b9fa-f1c0e9ef7a07"
      },
      "execution_count": 24,
      "outputs": [
        {
          "output_type": "stream",
          "name": "stdout",
          "text": [
            "640\n",
            "160\n",
            "Accuracy: 0.55625\n",
            "AUC-ROC: 0.556077694235589\n"
          ]
        }
      ]
    },
    {
      "cell_type": "code",
      "source": [
        "# # Flatten the image data into two dimensions\n",
        "# X_val_flattened = X_val.reshape(X_val.shape[0], -1)  # Reshape to (num_samples, features)\n",
        "# print(\"Shape of X_val after flattening:\", X_val_flattened.shape)\n",
        "\n",
        "# # Now make predictions\n",
        "# predictions = lgb_model.predict(X_val_flattened)\n",
        "# predicted_labels = (predictions > 0.5).astype(int)\n",
        "\n",
        "# # Calculate metrics\n",
        "# print(\"Accuracy:\", accuracy_score(y_val, predicted_labels))\n",
        "# print(\"AUC-ROC:\", roc_auc_score(y_val, predictions))\n",
        "\n"
      ],
      "metadata": {
        "id": "Q34RXQCGR_pm"
      },
      "execution_count": null,
      "outputs": []
    },
    {
      "cell_type": "code",
      "source": [
        "# from sklearn.model_selection import train_test_split\n",
        "\n",
        "# # Example of correctly splitting and predicting\n",
        "# X_train, X_val, y_train, y_val = train_test_split(X_train, y_train, test_size=0.2, random_state=42)\n",
        "\n",
        "# # Assuming 'model' is your trained model\n",
        "# predictions = lgb_model.predict(X_val)  # Generate predictions for validation set\n",
        "# predicted_labels = (predictions > 0.5).astype(int)  # Convert probabilities to binary labels\n",
        "\n",
        "# # Now check sizes again\n",
        "# print(\"Validation labels size:\", y_val.shape)\n",
        "# print(\"Predictions size:\", predicted_labels.shape)\n",
        "\n",
        "# # Calculate metrics\n",
        "# from sklearn.metrics import accuracy_score, roc_auc_score\n",
        "# print(\"Accuracy:\", accuracy_score(y_val, predicted_labels))\n",
        "# print(\"AUC-ROC:\", roc_auc_score(y_val, predictions))\n"
      ],
      "metadata": {
        "id": "EMihFBoTRryl"
      },
      "execution_count": null,
      "outputs": []
    },
    {
      "cell_type": "code",
      "source": [
        "\n"
      ],
      "metadata": {
        "id": "kCt0Sa6dFEdN"
      },
      "execution_count": null,
      "outputs": []
    },
    {
      "cell_type": "code",
      "source": [
        "# import lightgbm as lgb\n",
        "\n",
        "# # Load models\n",
        "# model_1 = lgb.Booster(model_file='inceptionResNet.h5')\n",
        "# model_2 = lgb.Booster(model_file='DenseNet121.h5')\n",
        "\n",
        "\n",
        "# # Predict using both models\n",
        "# preds_1 = model_1.predict(X_val)\n",
        "# preds_2 = model_2.predict(X_val)\n",
        "\n",
        "# final_preds = (preds_1 + preds_2) / 2\n",
        "# # Example weights: 60% for model_1, 40% for model_2\n",
        "# final_preds = 0.6 * preds_1 + 0.4 * preds_2\n",
        "# from sklearn.metrics import accuracy_score, roc_auc_score\n",
        "\n",
        "# # Assume y_test are the true labels\n",
        "# accuracy = accuracy_score(y_test, final_preds.round())  # For classification\n",
        "# auc_score = roc_auc_score(y_test, final_preds)          # For binary classification\n",
        "\n",
        "# print(f'Accuracy: {accuracy}, AUC: {auc_score}')\n",
        "\n"
      ],
      "metadata": {
        "id": "5qLcZn-YnLYV"
      },
      "execution_count": null,
      "outputs": []
    }
  ]
}